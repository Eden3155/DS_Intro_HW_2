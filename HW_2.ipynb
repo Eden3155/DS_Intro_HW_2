{
 "cells": [
  {
   "cell_type": "code",
   "execution_count": 2,
   "id": "35f66ddc",
   "metadata": {},
   "outputs": [],
   "source": [
    "def reverse(sentence, reverse_word):\n",
    "    if type(reverse_word) == int or type(reverse_word) == float:\n",
    "        print(\"invalid input\")\n",
    "    else:\n",
    "        occurence = 1\n",
    "        sen = sentence.split()\n",
    "        x = 0\n",
    "        for i in range(len(sen)):\n",
    "            if sen[i] == str(reverse_word):\n",
    "                x = 1 + x\n",
    "                if x == occurence:\n",
    "                    sen[i] = sen[i][::-1]\n",
    "                    sen = ' '.join(sen)\n",
    "                    return (sen)\n",
    "                    braek\n",
    "                    if x != occurence:\n",
    "                        print(\"The word was not found\")\n"
   ]
  },
  {
   "cell_type": "code",
   "execution_count": 3,
   "id": "3491813d",
   "metadata": {},
   "outputs": [
    {
     "data": {
      "text/plain": [
       "'I ekil apple and I also like bannana'"
      ]
     },
     "execution_count": 3,
     "metadata": {},
     "output_type": "execute_result"
    }
   ],
   "source": [
    "reverse(\"I like apple and I also like bannana\", \"like\")\n"
   ]
  },
  {
   "cell_type": "code",
   "execution_count": null,
   "id": "dd29a957",
   "metadata": {},
   "outputs": [],
   "source": []
  }
 ],
 "metadata": {
  "kernelspec": {
   "display_name": "Python 3 (ipykernel)",
   "language": "python",
   "name": "python3"
  },
  "language_info": {
   "codemirror_mode": {
    "name": "ipython",
    "version": 3
   },
   "file_extension": ".py",
   "mimetype": "text/x-python",
   "name": "python",
   "nbconvert_exporter": "python",
   "pygments_lexer": "ipython3",
   "version": "3.9.7"
  }
 },
 "nbformat": 4,
 "nbformat_minor": 5
}
